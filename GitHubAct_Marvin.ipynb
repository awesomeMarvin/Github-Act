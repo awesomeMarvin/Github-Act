{
  "nbformat": 4,
  "nbformat_minor": 0,
  "metadata": {
    "colab": {
      "provenance": [],
      "authorship_tag": "ABX9TyO7LQ3gVS95o/TYoeMgOJs/",
      "include_colab_link": true
    },
    "kernelspec": {
      "name": "python3",
      "display_name": "Python 3"
    },
    "language_info": {
      "name": "python"
    }
  },
  "cells": [
    {
      "cell_type": "markdown",
      "metadata": {
        "id": "view-in-github",
        "colab_type": "text"
      },
      "source": [
        "<a href=\"https://colab.research.google.com/github/awesomeMarvin/Github-Act/blob/main/GitHubAct_Marvin.ipynb\" target=\"_parent\"><img src=\"https://colab.research.google.com/assets/colab-badge.svg\" alt=\"Open In Colab\"/></a>"
      ]
    },
    {
      "cell_type": "code",
      "source": [
        "import requests\n",
        "\n",
        "github_raw_url = \"https://github.com/awesomeMarvin/Github-Act/blob/main/lib.py\"\n",
        "module_name = \"lib.py\"\n",
        "\n",
        "response = requests.get(github_raw_url)\n",
        "response.raise_for_status()\n",
        "\n",
        "with open(module_name, \"w\") as f:\n",
        "    f.write(response.text)"
      ],
      "metadata": {
        "id": "ownsxvk0HpIH"
      },
      "execution_count": null,
      "outputs": []
    },
    {
      "cell_type": "code",
      "execution_count": null,
      "metadata": {
        "id": "780Rol3H6vnB"
      },
      "outputs": [],
      "source": [
        "import sys\n",
        "import lib"
      ]
    },
    {
      "cell_type": "code",
      "source": [
        "def BootUp():\n",
        "    while True:\n",
        "        print(\"[Marvin's Automatic Teller Machine]\")\n",
        "        choice1 = str(input(\"[1] Log in\\n\"\n",
        "                            \"[2] Create Account\\n\"\n",
        "                            \"[3] Shut Down\\n\"\n",
        "                            \": \"))\n",
        "        match choice1:\n",
        "            case \"1\":\n",
        "                lib.space()\n",
        "                l = lib.Account.Login()\n",
        "                if l == 0:\n",
        "                    continue\n",
        "                return\n",
        "            case \"2\":\n",
        "                lib.space()\n",
        "                lib.AccountCreation()\n",
        "                continue\n",
        "            case \"3\":\n",
        "                lib.space()\n",
        "                print(\"Shutting down...\")\n",
        "                sys.exit()\n",
        "            case \"101\":\n",
        "                lib.space()\n",
        "                lib.Account.Test()\n",
        "            case _:\n",
        "                lib.space()\n",
        "                print(\"Error! Please choose among the given options.\")\n",
        "                continue"
      ],
      "metadata": {
        "id": "U4CiVy_K8vxL"
      },
      "execution_count": null,
      "outputs": []
    },
    {
      "cell_type": "code",
      "source": [
        "def Menu():\n",
        "    while True:\n",
        "        print(\"[Hi! What would you like to do today?]\")\n",
        "        choice2 = str(input(\"[1] Check Balance \\n\"\n",
        "                            \"[2] Deposit \\n\"\n",
        "                            \"[3] Withdraw \\n\"\n",
        "                            \"[4] Transaction History \\n\"\n",
        "                            \"[5] Log Out\"\n",
        "                            \": \"))\n",
        "\n",
        "        match choice2:\n",
        "            case \"1\":\n",
        "                lib.space()\n",
        "                lib.Account.ViewBalance()\n",
        "                continue\n",
        "            case \"2\":\n",
        "                lib.space()\n",
        "                lib.Account.Deposit()\n",
        "                continue\n",
        "            case \"3\":\n",
        "                lib.space()\n",
        "                lib.Account.Withdraw()\n",
        "                continue\n",
        "            case \"4\":\n",
        "                lib.space()\n",
        "                lib.Account.TransactionHistory()\n",
        "                continue\n",
        "            case \"5\":\n",
        "                lib.space()\n",
        "                print(\"Logging out..\\n\")\n",
        "                BootUp()\n",
        "            case _:\n",
        "                lib.space()\n",
        "                print(\"Error! Please choose among the given choices!\\n\")\n",
        "                continue"
      ],
      "metadata": {
        "id": "7Eni3UKb-uaq"
      },
      "execution_count": null,
      "outputs": []
    },
    {
      "cell_type": "code",
      "source": [
        "lib.space()\n",
        "BootUp()\n",
        "Menu()"
      ],
      "metadata": {
        "id": "0d6QW-r0_Pu4"
      },
      "execution_count": null,
      "outputs": []
    }
  ]
}